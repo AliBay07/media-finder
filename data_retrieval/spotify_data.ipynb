{
 "cells": [
  {
   "cell_type": "code",
   "execution_count": 68,
   "id": "43769fd8-bb9b-4a4e-8710-e8b4e7b2b1e1",
   "metadata": {},
   "outputs": [],
   "source": [
    "import numpy as np\n",
    "import pandas as pd\n",
    "import os\n",
    "import time\n",
    "import networkx as nx\n",
    "from rdflib import Graph, Literal, RDF, URIRef, Namespace\n",
    "from rdflib.namespace import FOAF, XSD\n",
    "from pyvis.network import Network\n",
    "import urllib.parse\n",
    "import re\n",
    "import rdflib\n",
    "import spotipy\n",
    "import uuid\n",
    "from SPARQLWrapper import SPARQLWrapper, POST\n",
    "from spotipy.oauth2 import SpotifyClientCredentials"
   ]
  },
  {
   "cell_type": "markdown",
   "id": "188289f7-e251-42d8-b9b0-3c8406a03aa6",
   "metadata": {},
   "source": [
    "## Helper Functions"
   ]
  },
  {
   "cell_type": "code",
   "execution_count": 69,
   "id": "ef0ca356-d5ee-417c-b28d-7d30d6b6aab8",
   "metadata": {},
   "outputs": [],
   "source": [
    "def sanitize_for_uri(name):\n",
    "    name = str(name)\n",
    "    return re.sub(r'[^a-zA-Z0-9_ ;/-]', '', name)"
   ]
  },
  {
   "cell_type": "markdown",
   "id": "f3a36270-9b92-4ab4-9d15-460752cf02e0",
   "metadata": {},
   "source": [
    "## Spotify API "
   ]
  },
  {
   "cell_type": "code",
   "execution_count": 70,
   "id": "378d3158-2271-4c9c-8580-5acb46b7f099",
   "metadata": {},
   "outputs": [],
   "source": [
    "client_credentials_manager = SpotifyClientCredentials(client_id='daced2e32ea548818a3289ff350acd39',\n",
    "                                                      client_secret='89adb131d6474e9497eadc4c209e5656')\n",
    "sp = spotipy.Spotify(client_credentials_manager=client_credentials_manager)"
   ]
  },
  {
   "cell_type": "markdown",
   "id": "29890a35-5dee-4b54-97d8-8ad9254fea0d",
   "metadata": {},
   "source": [
    "## Converting Spotify API Data to CSV file"
   ]
  },
  {
   "cell_type": "code",
   "execution_count": 71,
   "id": "711939a6-196e-4ad4-881e-801d5850fa7f",
   "metadata": {},
   "outputs": [],
   "source": [
    "df = pd.read_csv(\"../data/dataset.csv\", usecols=[\"track_id\"])"
   ]
  },
  {
   "cell_type": "code",
   "execution_count": 72,
   "id": "46723560-b0b1-4c17-be74-26d64d0904e9",
   "metadata": {
    "scrolled": true
   },
   "outputs": [],
   "source": [
    "saved_file_path = \"../data/spotify_data.csv\"\n",
    "if os.path.exists(saved_file_path):\n",
    "    saved_df = pd.read_csv(saved_file_path)\n",
    "    successfully_retrieved = set(saved_df['track_id'].tolist())\n",
    "else:\n",
    "    saved_df = pd.DataFrame()\n",
    "    successfully_retrieved = set()"
   ]
  },
  {
   "cell_type": "code",
   "execution_count": 73,
   "id": "f0e35752-8a26-4783-a9f3-9013034c67fc",
   "metadata": {},
   "outputs": [],
   "source": [
    "remaining_ids = set(df['track_id']) - successfully_retrieved\n",
    "\n",
    "columns = [\n",
    "    'track_id', 'track_name', 'track_popularity', 'track_duration_ms', 'track_explicit', 'track_isrc',\n",
    "    'album_id', 'album_name', 'album_type', 'album_release_date', 'album_total_tracks', 'album_uri',\n",
    "    'artist_id', 'artist_name', 'artist_uri', 'track_uri'\n",
    "]\n",
    "all_tracks_df = pd.DataFrame(columns=columns)"
   ]
  },
  {
   "cell_type": "code",
   "execution_count": 74,
   "id": "06f1199e-56cb-464d-96f5-962329419cce",
   "metadata": {
    "scrolled": true
   },
   "outputs": [],
   "source": [
    "batch_size = 50\n",
    "batch_count = 1\n",
    "total_batches = len(remaining_ids) // batch_size + 1\n",
    "\n",
    "while remaining_ids:\n",
    "    batch = list(remaining_ids)[:batch_size]\n",
    "    print(f\"Processing batch {batch_count} of {total_batches}...\")\n",
    "\n",
    "    try:\n",
    "        response = sp.tracks(batch)\n",
    "        \n",
    "        for track in response['tracks']:\n",
    "            if track:\n",
    "                track_data = {\n",
    "                    'track_id': track['id'],\n",
    "                    'track_name': track['name'],\n",
    "                    'track_popularity': track['popularity'],\n",
    "                    'track_duration_ms': track['duration_ms'],\n",
    "                    'track_explicit': track['explicit'],\n",
    "                    'track_isrc': track['external_ids'].get('isrc', None),\n",
    "                    'album_id': track['album']['id'],\n",
    "                    'album_name': track['album']['name'],\n",
    "                    'album_type': track['album']['album_type'],\n",
    "                    'album_release_date': track['album']['release_date'],\n",
    "                    'album_total_tracks': track['album']['total_tracks'],\n",
    "                    'album_spotify_uri': track['album']['uri'],\n",
    "                    'artist_id': '; '.join([artist['id'] for artist in track['artists']]),\n",
    "                    'artist_name': '; '.join([artist['name'] for artist in track['artists']]),\n",
    "                    'artist_spotify_uri': '; '.join([artist['uri'] for artist in track['artists']]),\n",
    "                    'track_spotify_uri': track['uri']\n",
    "                }\n",
    "                all_tracks_df = pd.concat([all_tracks_df, pd.DataFrame([track_data])], ignore_index=True)\n",
    "                successfully_retrieved.add(track['id'])\n",
    "                \n",
    "        remaining_ids -= set(batch)\n",
    "        all_tracks_df.to_csv(saved_file_path, index=False)\n",
    "        \n",
    "    except Exception as e:\n",
    "        print(f\"Error processing batch {batch_count}: {e}\")\n",
    "        break\n",
    "\n",
    "    time.sleep(1)\n",
    "    batch_count += 1"
   ]
  },
  {
   "cell_type": "code",
   "execution_count": 75,
   "id": "ce4d6b32-5e36-4756-972c-dbe3b70e5976",
   "metadata": {},
   "outputs": [],
   "source": [
    "spotify_data =  pd.read_csv(saved_file_path)\n",
    "turtle_file_name = \"../turtle/media_ontology.ttl\"\n",
    "\n",
    "# Uncomment for testing, use 100 songs only\n",
    "spotify_data = spotify_data.head(100)\n",
    "turtle_file_name = \"../turtle/media_ontology_TEST.ttl\""
   ]
  },
  {
   "cell_type": "code",
   "execution_count": 76,
   "id": "037b8581-d951-478e-b277-6c02b7039659",
   "metadata": {},
   "outputs": [],
   "source": [
    "spotify_data.dropna(axis=1, how='all', inplace=True)\n",
    "spotify_data['artist_name'] = spotify_data['artist_name'].apply(sanitize_for_uri)\n",
    "spotify_data['track_name'] = spotify_data['track_name'].apply(sanitize_for_uri)\n",
    "spotify_data['album_name'] = spotify_data['album_name'].apply(sanitize_for_uri)\n",
    "spotify_data[\"track_spotify_uri\"] = spotify_data[\"track_spotify_uri\"].str.replace(\"spotify:track:\", \"\", regex=False)\n",
    "spotify_data[\"artist_spotify_uri\"] = spotify_data[\"track_spotify_uri\"].str.replace(\"spotify:artist:\", \"\", regex=False)\n",
    "spotify_data[\"album_spotify_uri\"] = spotify_data[\"track_spotify_uri\"].str.replace(\"spotify:album:\", \"\", regex=False)"
   ]
  },
  {
   "cell_type": "markdown",
   "id": "492f96b2-03a7-4726-9285-cb5ce28bc97b",
   "metadata": {},
   "source": [
    "## Initialize Graph"
   ]
  },
  {
   "cell_type": "code",
   "execution_count": 77,
   "id": "9570fac9-1d7e-40e7-953d-c2a8d23a4ab3",
   "metadata": {},
   "outputs": [],
   "source": [
    "MEDIA = Namespace(\"http://mediafinder.org/media/\")\n",
    "PROPERTY = Namespace(\"http://mediafinder.org/properties/\")\n",
    "RDFS = Namespace(\"http://www.w3.org/2000/01/rdf-schema#\")"
   ]
  },
  {
   "cell_type": "code",
   "execution_count": 78,
   "id": "878d2a42-fc85-4798-8fda-847b473c3a4c",
   "metadata": {},
   "outputs": [],
   "source": [
    "g = Graph()\n",
    "g.bind(\"media\", MEDIA)\n",
    "g.bind(\"property\", PROPERTY)\n",
    "g.bind(\"rdfs\", RDFS)"
   ]
  },
  {
   "cell_type": "markdown",
   "id": "9ff24b9f-3196-44e5-bd0f-5208d2d3cadf",
   "metadata": {},
   "source": [
    "## Classes"
   ]
  },
  {
   "cell_type": "code",
   "execution_count": 79,
   "id": "abb2796c-391e-4083-bfc0-a1371edca1cc",
   "metadata": {},
   "outputs": [
    {
     "data": {
      "text/plain": [
       "<Graph identifier=N22caeb5a38bd487b9ac8be149ac771c7 (<class 'rdflib.graph.Graph'>)>"
      ]
     },
     "execution_count": 79,
     "metadata": {},
     "output_type": "execute_result"
    }
   ],
   "source": [
    "g.add((MEDIA.Media, RDF.type, RDFS.Class))\n",
    "g.add((MEDIA.Track, RDF.type, RDFS.Class))\n",
    "g.add((MEDIA.Album, RDF.type, RDFS.Class))\n",
    "g.add((MEDIA.Person, RDF.type, RDFS.Class))\n",
    "g.add((MEDIA.Artist, RDF.type, RDFS.Class))\n",
    "g.add((MEDIA.Image, RDF.type, RDFS.Class))"
   ]
  },
  {
   "cell_type": "markdown",
   "id": "1cf26c06-7788-41bd-8fa9-519d1b63770b",
   "metadata": {},
   "source": [
    "## SubClasses"
   ]
  },
  {
   "cell_type": "code",
   "execution_count": 80,
   "id": "58560069-1759-427f-be2b-d2e3b26f477d",
   "metadata": {},
   "outputs": [
    {
     "data": {
      "text/plain": [
       "<Graph identifier=N22caeb5a38bd487b9ac8be149ac771c7 (<class 'rdflib.graph.Graph'>)>"
      ]
     },
     "execution_count": 80,
     "metadata": {},
     "output_type": "execute_result"
    }
   ],
   "source": [
    "g.add((MEDIA.Track, RDFS.subClassOf, MEDIA.Media))\n",
    "g.add((MEDIA.Album, RDFS.subClassOf, MEDIA.Media))\n",
    "g.add((MEDIA.Image, RDFS.subClassOf, MEDIA.Media))\n",
    "g.add((MEDIA.Artist, RDFS.subClassOf, MEDIA.Person))"
   ]
  },
  {
   "cell_type": "markdown",
   "id": "4a35a79b-3779-4245-b466-f6628c293079",
   "metadata": {},
   "source": [
    "## Properties"
   ]
  },
  {
   "cell_type": "code",
   "execution_count": 81,
   "id": "1e08a0d2-e9bd-4cbd-8d8f-47610ce8510d",
   "metadata": {},
   "outputs": [
    {
     "data": {
      "text/plain": [
       "<Graph identifier=N22caeb5a38bd487b9ac8be149ac771c7 (<class 'rdflib.graph.Graph'>)>"
      ]
     },
     "execution_count": 81,
     "metadata": {},
     "output_type": "execute_result"
    }
   ],
   "source": [
    "g.add((PROPERTY.trackName, RDF.type, RDF.Property))\n",
    "g.add((PROPERTY.trackPopularity, RDF.type, RDF.Property))\n",
    "g.add((PROPERTY.trackDuration, RDF.type, RDF.Property))\n",
    "g.add((PROPERTY.trackExplicit, RDF.type, RDF.Property))\n",
    "g.add((PROPERTY.trackISRC, RDF.type, RDF.Property))\n",
    "g.add((PROPERTY.albumName, RDF.type, RDF.Property))\n",
    "g.add((PROPERTY.albumType, RDF.type, RDF.Property))\n",
    "g.add((PROPERTY.albumReleaseDate, RDF.type, RDF.Property))\n",
    "g.add((PROPERTY.albumTotalTracks, RDF.type, RDF.Property))\n",
    "g.add((PROPERTY.artistName, RDF.type, RDF.Property))\n",
    "g.add((PROPERTY.albumSpotifyURI, RDF.type, RDF.Property))\n",
    "g.add((PROPERTY.artistSpotifyURI, RDF.type, RDF.Property))\n",
    "g.add((PROPERTY.trackSpotifyURI, RDF.type, RDF.Property))\n",
    "g.add((PROPERTY.containsObject, RDF.type, RDF.Property))\n",
    "g.add((PROPERTY.base64Value, RDF.type, RDF.Property))"
   ]
  },
  {
   "cell_type": "markdown",
   "id": "1c03d68a-1ab6-476d-bc95-15f602a3d134",
   "metadata": {},
   "source": [
    "## Domains and ranges"
   ]
  },
  {
   "cell_type": "code",
   "execution_count": 82,
   "id": "24f3b289-5d4e-4179-a34c-a49ece5ff3ad",
   "metadata": {},
   "outputs": [
    {
     "data": {
      "text/plain": [
       "<Graph identifier=N22caeb5a38bd487b9ac8be149ac771c7 (<class 'rdflib.graph.Graph'>)>"
      ]
     },
     "execution_count": 82,
     "metadata": {},
     "output_type": "execute_result"
    }
   ],
   "source": [
    "g.add((PROPERTY.containsObject, RDFS.domain, MEDIA.Image))\n",
    "g.add((PROPERTY.containsObject, RDFS.range, RDFS.Literal))\n",
    "\n",
    "g.add((PROPERTY.base64Value, RDFS.domain, MEDIA.Image))\n",
    "g.add((PROPERTY.base64Value, RDFS.range, RDFS.Literal))\n",
    "\n",
    "g.add((PROPERTY.trackName, RDFS.domain, MEDIA.Track))\n",
    "g.add((PROPERTY.trackName, RDFS.range, RDFS.Literal))\n",
    "\n",
    "g.add((PROPERTY.trackPopularity, RDFS.domain, MEDIA.Track))\n",
    "g.add((PROPERTY.trackPopularity, RDFS.range, RDFS.Literal))\n",
    "\n",
    "g.add((PROPERTY.trackDuration, RDFS.domain, MEDIA.Track))\n",
    "g.add((PROPERTY.trackDuration, RDFS.range, RDFS.Literal))\n",
    "\n",
    "g.add((PROPERTY.trackExplicit, RDFS.domain, MEDIA.Track))\n",
    "g.add((PROPERTY.trackExplicit, RDFS.range, RDFS.Literal))\n",
    "\n",
    "g.add((PROPERTY.trackISRC, RDFS.domain, MEDIA.Track))\n",
    "g.add((PROPERTY.trackISRC, RDFS.range, RDFS.Literal))\n",
    "\n",
    "g.add((PROPERTY.albumName, RDFS.domain, MEDIA.Album))\n",
    "g.add((PROPERTY.albumName, RDFS.range, RDFS.Literal))\n",
    "\n",
    "g.add((PROPERTY.albumType, RDFS.domain, MEDIA.Album))\n",
    "g.add((PROPERTY.albumType, RDFS.range, RDFS.Literal))\n",
    "\n",
    "g.add((PROPERTY.albumReleaseDate, RDFS.domain, MEDIA.Album))\n",
    "g.add((PROPERTY.albumReleaseDate, RDFS.range, RDFS.Literal))\n",
    "\n",
    "g.add((PROPERTY.albumTotalTracks, RDFS.domain, MEDIA.Album))\n",
    "g.add((PROPERTY.albumTotalTracks, RDFS.range, RDFS.Literal))\n",
    "\n",
    "g.add((PROPERTY.artistName, RDFS.domain, MEDIA.Artist))\n",
    "g.add((PROPERTY.artistName, RDFS.range, RDFS.Literal))\n",
    "\n",
    "g.add((PROPERTY.albumSpotifyURI, RDFS.domain, MEDIA.Album))\n",
    "g.add((PROPERTY.albumSpotifyURI, RDFS.range, RDFS.Literal))\n",
    "\n",
    "g.add((PROPERTY.artistSpotifyURI, RDFS.domain, MEDIA.Artist))\n",
    "g.add((PROPERTY.artistSpotifyURI, RDFS.range, RDFS.Literal))\n",
    "\n",
    "g.add((PROPERTY.trackSpotifyURI, RDFS.domain, MEDIA.Track))\n",
    "g.add((PROPERTY.trackSpotifyURI, RDFS.range, RDFS.Literal))"
   ]
  },
  {
   "cell_type": "code",
   "execution_count": 83,
   "id": "d07b8d4a-7e75-461e-965a-e81d6136d393",
   "metadata": {
    "scrolled": true
   },
   "outputs": [
    {
     "data": {
      "text/plain": [
       "<Graph identifier=N22caeb5a38bd487b9ac8be149ac771c7 (<class 'rdflib.graph.Graph'>)>"
      ]
     },
     "execution_count": 83,
     "metadata": {},
     "output_type": "execute_result"
    }
   ],
   "source": [
    "for index, row in spotify_data.iterrows():\n",
    "    track_uri = URIRef(MEDIA[f\"{uuid.uuid5(uuid.NAMESPACE_DNS, str(row['track_id']))}\"])\n",
    "    g.add((track_uri, RDF.type, MEDIA.Track))\n",
    "    g.add((track_uri, PROPERTY.trackName, Literal(row['track_name'])))\n",
    "    g.add((track_uri, PROPERTY.trackPopularity, Literal(row['track_popularity'])))\n",
    "    g.add((track_uri, PROPERTY.trackDuration, Literal(row['track_duration_ms'])))\n",
    "    g.add((track_uri, PROPERTY.trackExplicit, Literal(row['track_explicit'])))\n",
    "    g.add((track_uri, PROPERTY.trackISRC, Literal(row['track_isrc'])))\n",
    "    g.add((track_uri, PROPERTY.trackSpotifyURI, Literal(row['track_spotify_uri'])))\n",
    "\n",
    "    album_uri = URIRef(MEDIA[f\"{uuid.uuid5(uuid.NAMESPACE_DNS, str(row['album_id']))}\"])\n",
    "    g.add((album_uri, RDF.type, MEDIA.Album))\n",
    "    g.add((album_uri, PROPERTY.albumName, Literal(row['album_name'])))\n",
    "    g.add((album_uri, PROPERTY.albumType, Literal(row['album_type'])))\n",
    "    g.add((album_uri, PROPERTY.albumReleaseDate, Literal(row['album_release_date'])))\n",
    "    g.add((album_uri, PROPERTY.albumTotalTracks, Literal(str(int(row['album_total_tracks'])))))\n",
    "    g.add((album_uri, PROPERTY.albumSpotifyURI, Literal(row['album_spotify_uri'])))\n",
    "    g.add((track_uri, PROPERTY.trackBelongsToAlbum, album_uri))\n",
    "\n",
    "    artists = row['artist_name'].split('; ')\n",
    "    for artist_name in artists:\n",
    "        artist_uri = URIRef(MEDIA[f\"{uuid.uuid5(uuid.NAMESPACE_DNS, artist_name)}\"])\n",
    "        g.add((artist_uri, RDF.type, MEDIA.Artist))\n",
    "        g.add((artist_uri, PROPERTY.artistName, Literal(artist_name)))\n",
    "        g.add((artist_uri, PROPERTY.artistSpotifyURI, Literal(row['artist_spotify_uri'])))\n",
    "        g.add((track_uri, PROPERTY.trackHasArtist, artist_uri))\n",
    "\n",
    "g.serialize(turtle_file_name, format=\"turtle\")"
   ]
  },
  {
   "cell_type": "markdown",
   "id": "c025902c-e7a0-41b1-9bde-ca763d78d807",
   "metadata": {},
   "source": [
    "## All Data Graph"
   ]
  },
  {
   "cell_type": "code",
   "execution_count": null,
   "id": "4176c012-5a83-48b9-b7a1-9feab3e12220",
   "metadata": {
    "scrolled": true
   },
   "outputs": [],
   "source": [
    "net = Network(notebook=True)\n",
    "\n",
    "for subj, pred, obj in g:\n",
    "    net.add_node(str(subj), label=str(subj), color=\"skyblue\")\n",
    "    net.add_node(str(obj), label=str(obj), color=\"lightgreen\")\n",
    "\n",
    "    net.add_edge(str(subj), str(obj), title=str(pred.split('/')[-1]), label=str(pred.split('/')[-1]))\n",
    "\n",
    "net.show(\"../html/rdf_graph_interactive_colored_with_labels_and_ontology.html\")"
   ]
  },
  {
   "cell_type": "markdown",
   "id": "677207f9-fdc7-4903-b531-800c5581e671",
   "metadata": {},
   "source": [
    "## Media Finder API"
   ]
  },
  {
   "cell_type": "code",
   "execution_count": 30,
   "id": "98f2a489-35d0-4880-b2df-4477aff98e8b",
   "metadata": {},
   "outputs": [],
   "source": [
    "class MediaFinder:\n",
    "    def __init__(self, graph_path):\n",
    "        self.graph = Graph()\n",
    "        self.graph.parse(graph_path, format=\"turtle\")\n",
    "\n",
    "    def getTrackByName(self, track_name):\n",
    "        query = \"\"\"\n",
    "        PREFIX MEDIA: <http://mediafinder.org/MEDIA/>\n",
    "        PREFIX property: <http://mediafinder.org/properties/>\n",
    "    \n",
    "        SELECT ?track ?trackName ?trackDuration ?trackSpotifyURI ?artist ?artistName ?album\n",
    "        WHERE {\n",
    "            ?track a MEDIA:Track .\n",
    "            ?track property:trackName ?trackName .\n",
    "            ?track property:trackDuration ?trackDuration .\n",
    "            ?track property:trackSpotifyURI ?trackSpotifyURI .\n",
    "            ?track property:trackHasArtist ?artist .\n",
    "            ?artist a MEDIA:Artist .\n",
    "            ?artist property:artistName ?artistName .\n",
    "            ?track property:trackBelongsToAlbum ?album .\n",
    "            FILTER (regex(?trackName, ?name, \"i\"))\n",
    "        }\n",
    "        \"\"\"\n",
    "        result = self.graph.query(query, initBindings={'name': Literal(track_name)})\n",
    "        return result"
   ]
  },
  {
   "cell_type": "markdown",
   "id": "2edbb7ee-ba07-4b45-9386-75b0151813af",
   "metadata": {},
   "source": [
    "## Test MEDIA Finder Class"
   ]
  },
  {
   "cell_type": "code",
   "execution_count": 31,
   "id": "11098dbe-51cf-4892-aa43-f29e1ebd6d2b",
   "metadata": {},
   "outputs": [
    {
     "name": "stdout",
     "output_type": "stream",
     "text": [
      "http://mediafinder.org/music/47f8c9de-2653-5986-bed7-a954919182b0\n",
      "3KmlvEQ4drHLcJinD0dnmX\n",
      "http://mediafinder.org/music/daa87369-08de-5645-afff-3f600e0df756\n",
      "http://mediafinder.org/music/7c63530c-7b1b-5b7b-a676-366336fd2bcd\n",
      "---------------\n",
      "http://mediafinder.org/music/8888ef38-ffcd-58d2-afda-a0af85f4cbaa\n",
      "6KBEi0APTBDw4xY0pHdFxl\n",
      "http://mediafinder.org/music/288f5dbf-48ea-5d8d-b9ea-8cf51609c1ef\n",
      "http://mediafinder.org/music/9e455b63-0e40-55e4-abb3-5033229cdb84\n",
      "---------------\n",
      "http://mediafinder.org/music/8888ef38-ffcd-58d2-afda-a0af85f4cbaa\n",
      "6KBEi0APTBDw4xY0pHdFxl\n",
      "http://mediafinder.org/music/6cd82020-ae1c-5493-bb6a-5d58454b2b59\n",
      "http://mediafinder.org/music/9e455b63-0e40-55e4-abb3-5033229cdb84\n",
      "---------------\n",
      "Warning: When  cdn_resources is 'local' jupyter notebook has issues displaying graphics on chrome/safari. Use cdn_resources='in_line' or cdn_resources='remote' if you have issues viewing graphics in a notebook.\n",
      "rdf_graph_result.html\n"
     ]
    },
    {
     "data": {
      "text/html": [
       "\n",
       "        <iframe\n",
       "            width=\"100%\"\n",
       "            height=\"600px\"\n",
       "            src=\"rdf_graph_result.html\"\n",
       "            frameborder=\"0\"\n",
       "            allowfullscreen\n",
       "            \n",
       "        ></iframe>\n",
       "        "
      ],
      "text/plain": [
       "<IPython.lib.display.IFrame at 0x7f5fec431060>"
      ]
     },
     "execution_count": 31,
     "metadata": {},
     "output_type": "execute_result"
    }
   ],
   "source": [
    "media_finder = MediaFinder(turtle_file_name)\n",
    "\n",
    "mini_graph = Graph()\n",
    "mini_graph.bind(\"MEDIA\", MEDIA)\n",
    "mini_graph.bind(\"property\", PROPERTY)\n",
    "\n",
    "result = media_finder.getTrackByName(\"Wish\")\n",
    "\n",
    "for row in result:\n",
    "    track_uri = row['track']\n",
    "    artist_uri = row['artist']\n",
    "    album_uri = row['album']\n",
    "\n",
    "    mini_graph.add((track_uri, RDF.type, MEDIA.Track))\n",
    "    mini_graph.add((track_uri, PROPERTY.trackName, row['trackName']))\n",
    "    mini_graph.add((track_uri, PROPERTY.trackDuration, row['trackDuration']))\n",
    "    mini_graph.add((track_uri, PROPERTY.trackSpotifyURI, row['trackSpotifyURI']))\n",
    "\n",
    "    mini_graph.add((artist_uri, RDF.type, MEDIA.Artist))\n",
    "\n",
    "    mini_graph.add((album_uri, RDF.type, MEDIA.Album))\n",
    "    \n",
    "    mini_graph.add((track_uri, PROPERTY.trackHasArtist, artist_uri))\n",
    "    mini_graph.add((track_uri, PROPERTY.trackBelongsToAlbum, album_uri))\n",
    "\n",
    "net = Network(notebook=True)\n",
    "\n",
    "for subj, pred, obj in mini_graph:\n",
    "    net.add_node(str(subj), label=str(subj), color=\"skyblue\")\n",
    "    net.add_node(str(obj), label=str(obj), color=\"lightgreen\")\n",
    "    net.add_edge(str(subj), str(obj), title=str(pred.split('/')[-1]), label=str(pred.split('/')[-1]))\n",
    "\n",
    "net.show(\"rdf_graph_result.html\")"
   ]
  },
  {
   "cell_type": "markdown",
   "id": "c59e5d09-662d-4b9c-a4bf-1815108f3d9c",
   "metadata": {},
   "source": [
    "## Upload Data To TripleStore (GraphDB?)"
   ]
  },
  {
   "cell_type": "code",
   "execution_count": 107,
   "id": "1e640c3c-e841-4d8c-8af8-29ae2516a76e",
   "metadata": {},
   "outputs": [],
   "source": [
    "sparql_update_endpoint = \"http://ali-HP-ProBook-450-G8-Notebook-PC:7200/repositories/MEDIA_finder\"\n",
    "turtle_file = \"../turtle/MEDIA_ontology.ttl\""
   ]
  },
  {
   "cell_type": "code",
   "execution_count": 108,
   "id": "05cceb50-701c-4848-9bc3-a0d3a24f92c9",
   "metadata": {},
   "outputs": [
    {
     "name": "stdout",
     "output_type": "stream",
     "text": [
      "Error uploading data: <urlopen error [Errno 32] Broken pipe>\n"
     ]
    }
   ],
   "source": [
    "with open(turtle_file, 'r') as file:\n",
    "    turtle_data = file.read()\n",
    "\n",
    "sparql = SPARQLWrapper(sparql_update_endpoint)\n",
    "sparql.setMethod(POST)\n",
    "\n",
    "sparql.setQuery(\"\"\"\n",
    "INSERT DATA {\n",
    "    %s\n",
    "}\n",
    "\"\"\" % turtle_data)\n",
    "\n",
    "try:\n",
    "    sparql.query()\n",
    "    print(\"Data successfully uploaded to the triplestore.\")\n",
    "except Exception as e:\n",
    "    print(f\"Error uploading data: {e}\")"
   ]
  }
 ],
 "metadata": {
  "kernelspec": {
   "display_name": "Python 3 (ipykernel)",
   "language": "python",
   "name": "python3"
  },
  "language_info": {
   "codemirror_mode": {
    "name": "ipython",
    "version": 3
   },
   "file_extension": ".py",
   "mimetype": "text/x-python",
   "name": "python",
   "nbconvert_exporter": "python",
   "pygments_lexer": "ipython3",
   "version": "3.10.12"
  }
 },
 "nbformat": 4,
 "nbformat_minor": 5
}
