{
 "cells": [
  {
   "cell_type": "code",
   "execution_count": 68,
   "id": "43769fd8-bb9b-4a4e-8710-e8b4e7b2b1e1",
   "metadata": {},
   "outputs": [],
   "source": [
    "import numpy as np\n",
    "import pandas as pd\n",
    "import os\n",
    "import time\n",
    "import networkx as nx\n",
    "from rdflib import Graph, Literal, RDF, URIRef, Namespace\n",
    "from rdflib.namespace import FOAF, XSD\n",
    "from pyvis.network import Network\n",
    "import urllib.parse\n",
    "import re\n",
    "import rdflib\n",
    "import spotipy\n",
    "import uuid\n",
    "from SPARQLWrapper import SPARQLWrapper, POST\n",
    "from spotipy.oauth2 import SpotifyClientCredentials"
   ]
  },
  {
   "cell_type": "markdown",
   "id": "188289f7-e251-42d8-b9b0-3c8406a03aa6",
   "metadata": {},
   "source": [
    "## Helper Functions"
   ]
  },
  {
   "cell_type": "code",
   "execution_count": 69,
   "id": "ef0ca356-d5ee-417c-b28d-7d30d6b6aab8",
   "metadata": {},
   "outputs": [],
   "source": [
    "def sanitize_for_uri(name):\n",
    "    name = str(name)\n",
    "    return re.sub(r'[^a-zA-Z0-9_ ;/-]', '', name)"
   ]
  },
  {
   "cell_type": "markdown",
   "id": "f3a36270-9b92-4ab4-9d15-460752cf02e0",
   "metadata": {},
   "source": [
    "## Spotify API "
   ]
  },
  {
   "cell_type": "code",
   "execution_count": 70,
   "id": "378d3158-2271-4c9c-8580-5acb46b7f099",
   "metadata": {},
   "outputs": [],
   "source": [
    "client_credentials_manager = SpotifyClientCredentials(client_id='daced2e32ea548818a3289ff350acd39',\n",
    "                                                      client_secret='89adb131d6474e9497eadc4c209e5656')\n",
    "sp = spotipy.Spotify(client_credentials_manager=client_credentials_manager)"
   ]
  },
  {
   "cell_type": "markdown",
   "id": "29890a35-5dee-4b54-97d8-8ad9254fea0d",
   "metadata": {},
   "source": [
    "## Converting Spotify API Data to CSV file"
   ]
  },
  {
   "cell_type": "code",
   "execution_count": 71,
   "id": "711939a6-196e-4ad4-881e-801d5850fa7f",
   "metadata": {},
   "outputs": [],
   "source": [
    "df = pd.read_csv(\"../data/dataset.csv\", usecols=[\"track_id\"])"
   ]
  },
  {
   "cell_type": "code",
   "execution_count": 72,
   "id": "46723560-b0b1-4c17-be74-26d64d0904e9",
   "metadata": {
    "scrolled": true
   },
   "outputs": [],
   "source": [
    "saved_file_path = \"../data/spotify_data.csv\"\n",
    "if os.path.exists(saved_file_path):\n",
    "    saved_df = pd.read_csv(saved_file_path)\n",
    "    successfully_retrieved = set(saved_df['track_id'].tolist())\n",
    "else:\n",
    "    saved_df = pd.DataFrame()\n",
    "    successfully_retrieved = set()"
   ]
  },
  {
   "cell_type": "code",
   "execution_count": 73,
   "id": "f0e35752-8a26-4783-a9f3-9013034c67fc",
   "metadata": {},
   "outputs": [],
   "source": [
    "remaining_ids = set(df['track_id']) - successfully_retrieved\n",
    "\n",
    "columns = [\n",
    "    'track_id', 'track_name', 'track_popularity', 'track_duration_ms', 'track_explicit', 'track_isrc',\n",
    "    'album_id', 'album_name', 'album_type', 'album_release_date', 'album_total_tracks', 'album_uri',\n",
    "    'artist_id', 'artist_name', 'artist_uri', 'track_uri'\n",
    "]\n",
    "all_tracks_df = pd.DataFrame(columns=columns)"
   ]
  },
  {
   "cell_type": "code",
   "execution_count": 74,
   "id": "06f1199e-56cb-464d-96f5-962329419cce",
   "metadata": {
    "scrolled": true
   },
   "outputs": [],
   "source": [
    "batch_size = 50\n",
    "batch_count = 1\n",
    "total_batches = len(remaining_ids) // batch_size + 1\n",
    "\n",
    "while remaining_ids:\n",
    "    batch = list(remaining_ids)[:batch_size]\n",
    "    print(f\"Processing batch {batch_count} of {total_batches}...\")\n",
    "\n",
    "    try:\n",
    "        response = sp.tracks(batch)\n",
    "        \n",
    "        for track in response['tracks']:\n",
    "            if track:\n",
    "                track_data = {\n",
    "                    'track_id': track['id'],\n",
    "                    'track_name': track['name'],\n",
    "                    'track_popularity': track['popularity'],\n",
    "                    'track_duration_ms': track['duration_ms'],\n",
    "                    'track_explicit': track['explicit'],\n",
    "                    'track_isrc': track['external_ids'].get('isrc', None),\n",
    "                    'album_id': track['album']['id'],\n",
    "                    'album_name': track['album']['name'],\n",
    "                    'album_type': track['album']['album_type'],\n",
    "                    'album_release_date': track['album']['release_date'],\n",
    "                    'album_total_tracks': track['album']['total_tracks'],\n",
    "                    'album_spotify_uri': track['album']['uri'],\n",
    "                    'artist_id': '; '.join([artist['id'] for artist in track['artists']]),\n",
    "                    'artist_name': '; '.join([artist['name'] for artist in track['artists']]),\n",
    "                    'artist_spotify_uri': '; '.join([artist['uri'] for artist in track['artists']]),\n",
    "                    'track_spotify_uri': track['uri']\n",
    "                }\n",
    "                all_tracks_df = pd.concat([all_tracks_df, pd.DataFrame([track_data])], ignore_index=True)\n",
    "                successfully_retrieved.add(track['id'])\n",
    "                \n",
    "        remaining_ids -= set(batch)\n",
    "        all_tracks_df.to_csv(saved_file_path, index=False)\n",
    "        \n",
    "    except Exception as e:\n",
    "        print(f\"Error processing batch {batch_count}: {e}\")\n",
    "        break\n",
    "\n",
    "    time.sleep(1)\n",
    "    batch_count += 1"
   ]
  },
  {
   "cell_type": "code",
   "execution_count": 75,
   "id": "ce4d6b32-5e36-4756-972c-dbe3b70e5976",
   "metadata": {},
   "outputs": [],
   "source": [
    "spotify_data =  pd.read_csv(saved_file_path)\n",
    "turtle_file_name = \"../turtle/media_ontology.ttl\"\n",
    "\n",
    "# Uncomment for testing, use 100 songs only\n",
    "spotify_data = spotify_data.head(100)\n",
    "turtle_file_name = \"../turtle/media_ontology_TEST.ttl\""
   ]
  },
  {
   "cell_type": "code",
   "execution_count": 76,
   "id": "037b8581-d951-478e-b277-6c02b7039659",
   "metadata": {},
   "outputs": [],
   "source": [
    "spotify_data.dropna(axis=1, how='all', inplace=True)\n",
    "spotify_data['artist_name'] = spotify_data['artist_name'].apply(sanitize_for_uri)\n",
    "spotify_data['track_name'] = spotify_data['track_name'].apply(sanitize_for_uri)\n",
    "spotify_data['album_name'] = spotify_data['album_name'].apply(sanitize_for_uri)\n",
    "spotify_data[\"track_spotify_uri\"] = spotify_data[\"track_spotify_uri\"].str.replace(\"spotify:track:\", \"\", regex=False)\n",
    "spotify_data[\"artist_spotify_uri\"] = spotify_data[\"track_spotify_uri\"].str.replace(\"spotify:artist:\", \"\", regex=False)\n",
    "spotify_data[\"album_spotify_uri\"] = spotify_data[\"track_spotify_uri\"].str.replace(\"spotify:album:\", \"\", regex=False)"
   ]
  },
  {
   "cell_type": "markdown",
   "id": "492f96b2-03a7-4726-9285-cb5ce28bc97b",
   "metadata": {},
   "source": [
    "## Initialize Graph"
   ]
  },
  {
   "cell_type": "code",
   "execution_count": 77,
   "id": "9570fac9-1d7e-40e7-953d-c2a8d23a4ab3",
   "metadata": {},
   "outputs": [],
   "source": [
    "MEDIA = Namespace(\"http://mediafinder.org/media/\")\n",
    "PROPERTY = Namespace(\"http://mediafinder.org/properties/\")\n",
    "RDFS = Namespace(\"http://www.w3.org/2000/01/rdf-schema#\")"
   ]
  },
  {
   "cell_type": "code",
   "execution_count": 78,
   "id": "878d2a42-fc85-4798-8fda-847b473c3a4c",
   "metadata": {},
   "outputs": [],
   "source": [
    "g = Graph()\n",
    "g.bind(\"media\", MEDIA)\n",
    "g.bind(\"property\", PROPERTY)\n",
    "g.bind(\"rdfs\", RDFS)"
   ]
  },
  {
   "cell_type": "markdown",
   "id": "9ff24b9f-3196-44e5-bd0f-5208d2d3cadf",
   "metadata": {},
   "source": [
    "## Classes"
   ]
  },
  {
   "cell_type": "code",
   "execution_count": 79,
   "id": "abb2796c-391e-4083-bfc0-a1371edca1cc",
   "metadata": {},
   "outputs": [
    {
     "data": {
      "text/plain": [
       "<Graph identifier=N22caeb5a38bd487b9ac8be149ac771c7 (<class 'rdflib.graph.Graph'>)>"
      ]
     },
     "execution_count": 79,
     "metadata": {},
     "output_type": "execute_result"
    }
   ],
   "source": [
    "g.add((MEDIA.Media, RDF.type, RDFS.Class))\n",
    "g.add((MEDIA.Track, RDF.type, RDFS.Class))\n",
    "g.add((MEDIA.Album, RDF.type, RDFS.Class))\n",
    "g.add((MEDIA.Person, RDF.type, RDFS.Class))\n",
    "g.add((MEDIA.Artist, RDF.type, RDFS.Class))\n",
    "g.add((MEDIA.Image, RDF.type, RDFS.Class))"
   ]
  },
  {
   "cell_type": "markdown",
   "id": "1cf26c06-7788-41bd-8fa9-519d1b63770b",
   "metadata": {},
   "source": [
    "## SubClasses"
   ]
  },
  {
   "cell_type": "code",
   "execution_count": 80,
   "id": "58560069-1759-427f-be2b-d2e3b26f477d",
   "metadata": {},
   "outputs": [
    {
     "data": {
      "text/plain": [
       "<Graph identifier=N22caeb5a38bd487b9ac8be149ac771c7 (<class 'rdflib.graph.Graph'>)>"
      ]
     },
     "execution_count": 80,
     "metadata": {},
     "output_type": "execute_result"
    }
   ],
   "source": [
    "g.add((MEDIA.Track, RDFS.subClassOf, MEDIA.Media))\n",
    "g.add((MEDIA.Album, RDFS.subClassOf, MEDIA.Media))\n",
    "g.add((MEDIA.Image, RDFS.subClassOf, MEDIA.Media))\n",
    "g.add((MEDIA.Artist, RDFS.subClassOf, MEDIA.Person))"
   ]
  },
  {
   "cell_type": "markdown",
   "id": "4a35a79b-3779-4245-b466-f6628c293079",
   "metadata": {},
   "source": [
    "## Properties"
   ]
  },
  {
   "cell_type": "code",
   "execution_count": 81,
   "id": "1e08a0d2-e9bd-4cbd-8d8f-47610ce8510d",
   "metadata": {},
   "outputs": [
    {
     "data": {
      "text/plain": [
       "<Graph identifier=N22caeb5a38bd487b9ac8be149ac771c7 (<class 'rdflib.graph.Graph'>)>"
      ]
     },
     "execution_count": 81,
     "metadata": {},
     "output_type": "execute_result"
    }
   ],
   "source": [
    "g.add((PROPERTY.trackName, RDF.type, RDF.Property))\n",
    "g.add((PROPERTY.trackPopularity, RDF.type, RDF.Property))\n",
    "g.add((PROPERTY.trackDuration, RDF.type, RDF.Property))\n",
    "g.add((PROPERTY.trackExplicit, RDF.type, RDF.Property))\n",
    "g.add((PROPERTY.trackISRC, RDF.type, RDF.Property))\n",
    "g.add((PROPERTY.albumName, RDF.type, RDF.Property))\n",
    "g.add((PROPERTY.albumType, RDF.type, RDF.Property))\n",
    "g.add((PROPERTY.albumReleaseDate, RDF.type, RDF.Property))\n",
    "g.add((PROPERTY.albumTotalTracks, RDF.type, RDF.Property))\n",
    "g.add((PROPERTY.artistName, RDF.type, RDF.Property))\n",
    "g.add((PROPERTY.albumSpotifyURI, RDF.type, RDF.Property))\n",
    "g.add((PROPERTY.artistSpotifyURI, RDF.type, RDF.Property))\n",
    "g.add((PROPERTY.trackSpotifyURI, RDF.type, RDF.Property))\n",
    "g.add((PROPERTY.containsObject, RDF.type, RDF.Property))\n",
    "g.add((PROPERTY.base64Value, RDF.type, RDF.Property))"
   ]
  },
  {
   "cell_type": "markdown",
   "id": "1c03d68a-1ab6-476d-bc95-15f602a3d134",
   "metadata": {},
   "source": [
    "## Domains and ranges"
   ]
  },
  {
   "cell_type": "code",
   "execution_count": 82,
   "id": "24f3b289-5d4e-4179-a34c-a49ece5ff3ad",
   "metadata": {},
   "outputs": [
    {
     "data": {
      "text/plain": [
       "<Graph identifier=N22caeb5a38bd487b9ac8be149ac771c7 (<class 'rdflib.graph.Graph'>)>"
      ]
     },
     "execution_count": 82,
     "metadata": {},
     "output_type": "execute_result"
    }
   ],
   "source": [
    "g.add((PROPERTY.containsObject, RDFS.domain, MEDIA.Image))\n",
    "g.add((PROPERTY.containsObject, RDFS.range, RDFS.Literal))\n",
    "\n",
    "g.add((PROPERTY.base64Value, RDFS.domain, MEDIA.Image))\n",
    "g.add((PROPERTY.base64Value, RDFS.range, RDFS.Literal))\n",
    "\n",
    "g.add((PROPERTY.trackName, RDFS.domain, MEDIA.Track))\n",
    "g.add((PROPERTY.trackName, RDFS.range, RDFS.Literal))\n",
    "\n",
    "g.add((PROPERTY.trackPopularity, RDFS.domain, MEDIA.Track))\n",
    "g.add((PROPERTY.trackPopularity, RDFS.range, RDFS.Literal))\n",
    "\n",
    "g.add((PROPERTY.trackDuration, RDFS.domain, MEDIA.Track))\n",
    "g.add((PROPERTY.trackDuration, RDFS.range, RDFS.Literal))\n",
    "\n",
    "g.add((PROPERTY.trackExplicit, RDFS.domain, MEDIA.Track))\n",
    "g.add((PROPERTY.trackExplicit, RDFS.range, RDFS.Literal))\n",
    "\n",
    "g.add((PROPERTY.trackISRC, RDFS.domain, MEDIA.Track))\n",
    "g.add((PROPERTY.trackISRC, RDFS.range, RDFS.Literal))\n",
    "\n",
    "g.add((PROPERTY.albumName, RDFS.domain, MEDIA.Album))\n",
    "g.add((PROPERTY.albumName, RDFS.range, RDFS.Literal))\n",
    "\n",
    "g.add((PROPERTY.albumType, RDFS.domain, MEDIA.Album))\n",
    "g.add((PROPERTY.albumType, RDFS.range, RDFS.Literal))\n",
    "\n",
    "g.add((PROPERTY.albumReleaseDate, RDFS.domain, MEDIA.Album))\n",
    "g.add((PROPERTY.albumReleaseDate, RDFS.range, RDFS.Literal))\n",
    "\n",
    "g.add((PROPERTY.albumTotalTracks, RDFS.domain, MEDIA.Album))\n",
    "g.add((PROPERTY.albumTotalTracks, RDFS.range, RDFS.Literal))\n",
    "\n",
    "g.add((PROPERTY.artistName, RDFS.domain, MEDIA.Artist))\n",
    "g.add((PROPERTY.artistName, RDFS.range, RDFS.Literal))\n",
    "\n",
    "g.add((PROPERTY.albumSpotifyURI, RDFS.domain, MEDIA.Album))\n",
    "g.add((PROPERTY.albumSpotifyURI, RDFS.range, RDFS.Literal))\n",
    "\n",
    "g.add((PROPERTY.artistSpotifyURI, RDFS.domain, MEDIA.Artist))\n",
    "g.add((PROPERTY.artistSpotifyURI, RDFS.range, RDFS.Literal))\n",
    "\n",
    "g.add((PROPERTY.trackSpotifyURI, RDFS.domain, MEDIA.Track))\n",
    "g.add((PROPERTY.trackSpotifyURI, RDFS.range, RDFS.Literal))"
   ]
  },
  {
   "cell_type": "code",
   "execution_count": 83,
   "id": "d07b8d4a-7e75-461e-965a-e81d6136d393",
   "metadata": {
    "scrolled": true
   },
   "outputs": [
    {
     "data": {
      "text/plain": [
       "<Graph identifier=N22caeb5a38bd487b9ac8be149ac771c7 (<class 'rdflib.graph.Graph'>)>"
      ]
     },
     "execution_count": 83,
     "metadata": {},
     "output_type": "execute_result"
    }
   ],
   "source": [
    "for index, row in spotify_data.iterrows():\n",
    "    track_uri = URIRef(MEDIA[f\"{uuid.uuid5(uuid.NAMESPACE_DNS, str(row['track_id']))}\"])\n",
    "    g.add((track_uri, RDF.type, MEDIA.Track))\n",
    "    g.add((track_uri, PROPERTY.trackName, Literal(row['track_name'])))\n",
    "    g.add((track_uri, PROPERTY.trackPopularity, Literal(row['track_popularity'])))\n",
    "    g.add((track_uri, PROPERTY.trackDuration, Literal(row['track_duration_ms'])))\n",
    "    g.add((track_uri, PROPERTY.trackExplicit, Literal(row['track_explicit'])))\n",
    "    g.add((track_uri, PROPERTY.trackISRC, Literal(row['track_isrc'])))\n",
    "    g.add((track_uri, PROPERTY.trackSpotifyURI, Literal(row['track_spotify_uri'])))\n",
    "\n",
    "    album_uri = URIRef(MEDIA[f\"{uuid.uuid5(uuid.NAMESPACE_DNS, str(row['album_id']))}\"])\n",
    "    g.add((album_uri, RDF.type, MEDIA.Album))\n",
    "    g.add((album_uri, PROPERTY.albumName, Literal(row['album_name'])))\n",
    "    g.add((album_uri, PROPERTY.albumType, Literal(row['album_type'])))\n",
    "    g.add((album_uri, PROPERTY.albumReleaseDate, Literal(row['album_release_date'])))\n",
    "    g.add((album_uri, PROPERTY.albumTotalTracks, Literal(str(int(row['album_total_tracks'])))))\n",
    "    g.add((album_uri, PROPERTY.albumSpotifyURI, Literal(row['album_spotify_uri'])))\n",
    "    g.add((track_uri, PROPERTY.trackBelongsToAlbum, album_uri))\n",
    "\n",
    "    artists = row['artist_name'].split('; ')\n",
    "    for artist_name in artists:\n",
    "        artist_uri = URIRef(MEDIA[f\"{uuid.uuid5(uuid.NAMESPACE_DNS, artist_name)}\"])\n",
    "        g.add((artist_uri, RDF.type, MEDIA.Artist))\n",
    "        g.add((artist_uri, PROPERTY.artistName, Literal(artist_name)))\n",
    "        g.add((artist_uri, PROPERTY.artistSpotifyURI, Literal(row['artist_spotify_uri'])))\n",
    "        g.add((track_uri, PROPERTY.trackHasArtist, artist_uri))\n",
    "\n",
    "g.serialize(turtle_file_name, format=\"turtle\")"
   ]
  }
 ],
 "metadata": {
  "kernelspec": {
   "display_name": "Python 3 (ipykernel)",
   "language": "python",
   "name": "python3"
  },
  "language_info": {
   "codemirror_mode": {
    "name": "ipython",
    "version": 3
   },
   "file_extension": ".py",
   "mimetype": "text/x-python",
   "name": "python",
   "nbconvert_exporter": "python",
   "pygments_lexer": "ipython3",
   "version": "3.10.12"
  }
 },
 "nbformat": 4,
 "nbformat_minor": 5
}
